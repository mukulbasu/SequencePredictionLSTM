{
 "cells": [
  {
   "cell_type": "code",
   "execution_count": 1,
   "metadata": {},
   "outputs": [
    {
     "name": "stdout",
     "output_type": "stream",
     "text": [
      "2.2.0\n",
      "[PhysicalDevice(name='/physical_device:GPU:0', device_type='GPU')]\n"
     ]
    }
   ],
   "source": [
    "# Ignore this cell.. Just some standard stuff I do\n",
    "\n",
    "# TensorFlow and tf.keras\n",
    "import tensorflow as tf\n",
    "from tensorflow import keras\n",
    "from tensorflow.keras.mixed_precision import experimental as mixed_precision\n",
    "import os\n",
    "\n",
    "# Helper libraries\n",
    "import numpy as np\n",
    "import matplotlib.pyplot as plt\n",
    "\n",
    "print(tf.__version__)\n",
    "print(tf.config.list_physical_devices('GPU'))\n",
    "\n",
    "gpus = tf.config.experimental.list_physical_devices('GPU')\n",
    "tf.config.experimental.set_virtual_device_configuration(gpus[0],[tf.config.experimental.VirtualDeviceConfiguration(memory_limit=(1024*6))])\n",
    "#tf.debugging.set_log_device_placement(True)\n",
    "#policy = mixed_precision.Policy('mixed_float16')\n",
    "#mixed_precision.set_policy(policy)"
   ]
  },
  {
   "cell_type": "code",
   "execution_count": 2,
   "metadata": {},
   "outputs": [
    {
     "name": "stdout",
     "output_type": "stream",
     "text": [
      "(64000, 640, 7)\n",
      "(64000, 640, 10)\n"
     ]
    }
   ],
   "source": [
    "# Sample code for generating sequences for pose\n",
    "\n",
    "import random\n",
    "import numpy as np\n",
    "\n",
    "\n",
    "ARCHS = [\"lstm\"]#[\"lstm\", \"gru\"]\n",
    "DATAPOINTS = 32*2000 #Controls the number of rows of datasets to be generated (For some reason, this needs to be a multiple of 32)\n",
    "MAX_NUM_FRAMES_PER_POSE = 50 #50 #This is the number of frames that can detect one pose. Like a pose hold of 1 sec can result in 10 frames of one pose\n",
    "NUM_POSES = 7\n",
    "REP = [0, 1, 2, 3, 4, 5, 6, 2, 1, 0]\n",
    "MAX_SEQ_SIZE = 32*20 #Number of columns \n",
    "inputs = np.empty([DATAPOINTS, MAX_SEQ_SIZE, NUM_POSES], np.int32) # Format: 3D array: Row index, Column, (0 index for input, 1 index for total number of poses in sequence)\n",
    "targets = np.empty([DATAPOINTS, MAX_SEQ_SIZE, len(REP)], np.float32) # Format: 2D array: Row index, Column\n",
    "\n",
    "\n",
    "\n",
    "def checkIfShouldBePartial():\n",
    "    var = random.randint(0, 9)\n",
    "    if var < 6: return True\n",
    "    else: return False\n",
    "\n",
    "def getFullOrPartialRepLen(repLen, shouldPrint):\n",
    "    missingIdxs = set()\n",
    "    if checkIfShouldBePartial():\n",
    "        return random.randint(2, repLen-1)\n",
    "    return repLen\n",
    "\n",
    "\n",
    "def checkIfShouldAddMissing():\n",
    "    var = random.randint(0, 9)\n",
    "    if var < 6: return True\n",
    "    else: return False\n",
    "\n",
    "def createMissingPoses(repLen, arr, target, shouldPrint):\n",
    "    missingIdxs = set()\n",
    "    if checkIfShouldAddMissing():\n",
    "        missingLen = random.randint(0, repLen-1)\n",
    "        if shouldPrint: print(\"missingLen:\"+str(missingLen))\n",
    "        for i in range(missingLen):\n",
    "            missingIdxs.add(random.randint(2, repLen-1))\n",
    "    return missingIdxs\n",
    "\n",
    "def setEmbedding(arr, poseChoice, numPoses, rep):\n",
    "    for f in range(numPoses):\n",
    "        arr[f] = 0\n",
    "    arr[rep[poseChoice]] = 1\n",
    "\n",
    "def setTargetEmbedding(target, poseChoice, repLen, seqSize):\n",
    "#     if (seqSize > 0):\n",
    "#         for f in range(numPoses):\n",
    "#             target[seqSize][f] = target[seqSize-1][f]\n",
    "#     else:\n",
    "    for f in range(repLen):\n",
    "        target[seqSize][f] = 0\n",
    "            \n",
    "    target[seqSize][poseChoice] = 1\n",
    "    \n",
    "\n",
    "def copyTargetEmbeddingFromLast(target, repLen, seqSize):\n",
    "    if (seqSize > 0):\n",
    "        for f in range(repLen):\n",
    "            target[seqSize][f] = target[seqSize-1][f]\n",
    "    \n",
    "        \n",
    "def generateSeq(numPoses, rep, maxSeqSize, maxFramesPerPose, arr, target, shouldPrint):\n",
    "    lastTarget = 0\n",
    "    seqSize = 0\n",
    "    repLen = len(rep)\n",
    "    if shouldPrint: print(\"NumPoses:\"+str(numPoses))\n",
    "    while(seqSize < maxSeqSize):\n",
    "        if shouldPrint: print(\"seqSize:\"+str(seqSize))\n",
    "        #Generate some poses that are supposed to be detected wrong\n",
    "        missingPoses = createMissingPoses(repLen, arr, target, shouldPrint)\n",
    "        fullOrPartialRepLen = getFullOrPartialRepLen(repLen, shouldPrint)\n",
    "        for pose in range(fullOrPartialRepLen):\n",
    "            if shouldPrint: print(\"Pose:\"+str(pose))\n",
    "            for time in range(random.randint(1, maxFramesPerPose)):\n",
    "                if pose in missingPoses:\n",
    "                    if shouldPrint: print(\"missingPose:\"+str(pose))\n",
    "                    #Pick a wrong pose\n",
    "                    if pose == repLen - 1:\n",
    "                        poseChoice = random.randint(0, pose-1)\n",
    "                    else:\n",
    "                        if pose == 0:\n",
    "                            poseChoice = random.randint(1, repLen-1)\n",
    "                        else:\n",
    "                            if random.randint(0, 1) == 0:\n",
    "                                poseChoice = random.randint(0, pose-1)\n",
    "                            else:\n",
    "                                poseChoice = random.randint(pose+1, repLen-1)\n",
    "                    #Adding the pose and output to data\n",
    "                    setEmbedding(arr[seqSize], poseChoice, numPoses, rep)\n",
    "                    copyTargetEmbeddingFromLast(target, repLen, seqSize)\n",
    "                else:\n",
    "                    if shouldPrint: print(\"non-missingPose:\"+str(pose))\n",
    "                    setEmbedding(arr[seqSize], pose, numPoses, rep)\n",
    "                    setTargetEmbedding(target, pose, repLen, seqSize)\n",
    "                \n",
    "                if shouldPrint: print(\"input:\"+str(arr[seqSize])+\", target:\"+str(target[seqSize]))\n",
    "                #arr[seqSize][1] = numPoses\n",
    "                seqSize = seqSize + 1\n",
    "                if (seqSize >= maxSeqSize):\n",
    "                    break\n",
    "            \n",
    "            if (seqSize >= maxSeqSize):\n",
    "                break\n",
    "\n",
    "        \n",
    "\n",
    "\n",
    "print(inputs.shape)\n",
    "for i in range(DATAPOINTS):\n",
    "    generateSeq(NUM_POSES, REP, MAX_SEQ_SIZE, MAX_NUM_FRAMES_PER_POSE, inputs[i], targets[i], False)\n",
    "print(targets.shape)"
   ]
  },
  {
   "cell_type": "code",
   "execution_count": 3,
   "metadata": {},
   "outputs": [
    {
     "name": "stdout",
     "output_type": "stream",
     "text": [
      "(64000, 640, 7)\n",
      "(64000, 640, 10)\n",
      "[1. 0. 0. 0. 0. 0. 0. 0. 0. 0.]\n"
     ]
    }
   ],
   "source": [
    "print(inputs.shape)\n",
    "print(targets.shape)\n",
    "print(targets[0][0])\n",
    "from numpy import savez_compressed\n",
    "savez_compressed('inputs.npz', inputs)\n",
    "savez_compressed('targets.npz', targets)"
   ]
  },
  {
   "cell_type": "code",
   "execution_count": 4,
   "metadata": {},
   "outputs": [
    {
     "data": {
      "image/png": "[encoded data removed]",
      "text/plain": [
       "<Figure size 432x288 with 1 Axes>"
      ]
     },
     "metadata": {
      "needs_background": "light"
     },
     "output_type": "display_data"
    },
    {
     "data": {
      "image/png": "[encoded data removed]",
      "text/plain": [
       "<Figure size 2880x216 with 1 Axes>"
      ]
     },
     "metadata": {
      "needs_background": "light"
     },
     "output_type": "display_data"
    }
   ],
   "source": [
    "import matplotlib.pyplot as plt\n",
    "\n",
    "for k in range(2):\n",
    "    j = random.randint(0, inputs.shape[0]-2)\n",
    "    plot_inputs = np.empty(inputs.shape[1])\n",
    "    plot_targets = np.empty(inputs.shape[1])\n",
    "    \n",
    "    for arch in ARCHS:\n",
    "        for i in range(inputs.shape[1]-1):\n",
    "#         for i in range(10):\n",
    "            plot_inputs[i] = np.argmax(inputs[j:j+1, i:i+1], axis=2)[0][0]+2\n",
    "            plot_targets[i] = np.argmax(targets[j:j+1, i:i+1], axis=2)[0][0]+1\n",
    "        plt.plot(plot_targets, color='r', linestyle='dotted', label=\"target\")\n",
    "        plt.plot(plot_inputs, color='b', label=\"input\")\n",
    "        plt.rcParams[\"figure.figsize\"] = (40,3)\n",
    "        plt.legend()\n",
    "        plt.xlabel(arch)\n",
    "        plt.show()"
   ]
  }
 ],
 "metadata": {
  "kernelspec": {
   "display_name": "Python 3",
   "language": "python",
   "name": "python3"
  },
  "language_info": {
   "codemirror_mode": {
    "name": "ipython",
    "version": 3
   },
   "file_extension": ".py",
   "mimetype": "text/x-python",
   "name": "python",
   "nbconvert_exporter": "python",
   "pygments_lexer": "ipython3",
   "version": "3.8.3"
  }
 },
 "nbformat": 4,
 "nbformat_minor": 4
}
